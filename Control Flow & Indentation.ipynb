{
 "cells": [
  {
   "cell_type": "code",
   "execution_count": 19,
   "metadata": {},
   "outputs": [
    {
     "name": "stdout",
     "output_type": "stream",
     "text": [
      "value of I 1\n",
      "value of I 2\n",
      "value of I 3\n",
      "value of I 4\n",
      "value of I 5\n",
      "value of I 6\n",
      "value of I 7\n",
      "value of I 8\n",
      "value of I 9\n",
      "value of I 10\n",
      "value of I 11\n",
      "for loop complete!!\n"
     ]
    }
   ],
   "source": [
    "for i in range(1,12):\n",
    "    print(\"value of I \" + str(i))\n",
    "print(\"for loop complete!!\")"
   ]
  },
  {
   "cell_type": "code",
   "execution_count": 21,
   "metadata": {},
   "outputs": [
    {
     "name": "stdout",
     "output_type": "stream",
     "text": [
      "No.1 square is 1 and cube is 1\n",
      "No.2 square is 4 and cube is 8\n",
      "No.3 square is 9 and cube is 27\n",
      "No.4 square is 16 and cube is 64\n",
      "No.5 square is 25 and cube is 125\n",
      "No.6 square is 36 and cube is 216\n",
      "No.7 square is 49 and cube is 343\n",
      "No.8 square is 64 and cube is 512\n",
      "No.9 square is 81 and cube is 729\n",
      "No.10 square is 100 and cube is 1000\n",
      "No.11 square is 121 and cube is 1331\n",
      "END!!\n"
     ]
    }
   ],
   "source": [
    "for var1 in range(1,12):\n",
    "    print(\"No.{} square is {} and cube is {}\".format(var1,var1**2,var1**3))\n",
    "print(\"END!!\")\n",
    "    "
   ]
  },
  {
   "cell_type": "code",
   "execution_count": null,
   "metadata": {},
   "outputs": [],
   "source": []
  },
  {
   "cell_type": "code",
   "execution_count": null,
   "metadata": {},
   "outputs": [],
   "source": []
  },
  {
   "cell_type": "code",
   "execution_count": null,
   "metadata": {},
   "outputs": [],
   "source": []
  }
 ],
 "metadata": {
  "kernelspec": {
   "display_name": "Python 3",
   "language": "python",
   "name": "python3"
  },
  "language_info": {
   "codemirror_mode": {
    "name": "ipython",
    "version": 3
   },
   "file_extension": ".py",
   "mimetype": "text/x-python",
   "name": "python",
   "nbconvert_exporter": "python",
   "pygments_lexer": "ipython3",
   "version": "3.8.3"
  }
 },
 "nbformat": 4,
 "nbformat_minor": 4
}
